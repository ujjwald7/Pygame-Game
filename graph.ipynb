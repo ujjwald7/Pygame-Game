{
 "cells": [
  {
   "cell_type": "code",
   "execution_count": 2,
   "metadata": {},
   "outputs": [],
   "source": [
    "import pandas as pd\n",
    "import numpy as np\n",
    "import matplotlib.pyplot as plt"
   ]
  },
  {
   "cell_type": "code",
   "execution_count": 3,
   "metadata": {},
   "outputs": [
    {
     "data": {
      "text/html": [
       "<div>\n",
       "<style scoped>\n",
       "    .dataframe tbody tr th:only-of-type {\n",
       "        vertical-align: middle;\n",
       "    }\n",
       "\n",
       "    .dataframe tbody tr th {\n",
       "        vertical-align: top;\n",
       "    }\n",
       "\n",
       "    .dataframe thead th {\n",
       "        text-align: right;\n",
       "    }\n",
       "</style>\n",
       "<table border=\"1\" class=\"dataframe\">\n",
       "  <thead>\n",
       "    <tr style=\"text-align: right;\">\n",
       "      <th></th>\n",
       "      <th>0</th>\n",
       "      <th>1</th>\n",
       "      <th>2</th>\n",
       "      <th>3</th>\n",
       "    </tr>\n",
       "  </thead>\n",
       "  <tbody>\n",
       "    <tr>\n",
       "      <th>0</th>\n",
       "      <td>swati</td>\n",
       "      <td>18</td>\n",
       "      <td>81</td>\n",
       "      <td>3</td>\n",
       "    </tr>\n",
       "    <tr>\n",
       "      <th>1</th>\n",
       "      <td>vansh</td>\n",
       "      <td>12</td>\n",
       "      <td>14</td>\n",
       "      <td>1</td>\n",
       "    </tr>\n",
       "    <tr>\n",
       "      <th>2</th>\n",
       "      <td>nikhil</td>\n",
       "      <td>21</td>\n",
       "      <td>3</td>\n",
       "      <td>1</td>\n",
       "    </tr>\n",
       "    <tr>\n",
       "      <th>3</th>\n",
       "      <td>nikhil</td>\n",
       "      <td>19</td>\n",
       "      <td>48</td>\n",
       "      <td>2</td>\n",
       "    </tr>\n",
       "    <tr>\n",
       "      <th>4</th>\n",
       "      <td>surya</td>\n",
       "      <td>19</td>\n",
       "      <td>67</td>\n",
       "      <td>2</td>\n",
       "    </tr>\n",
       "    <tr>\n",
       "      <th>5</th>\n",
       "      <td>nik</td>\n",
       "      <td>90</td>\n",
       "      <td>0</td>\n",
       "      <td>1</td>\n",
       "    </tr>\n",
       "    <tr>\n",
       "      <th>6</th>\n",
       "      <td>ujjawal</td>\n",
       "      <td>50</td>\n",
       "      <td>24</td>\n",
       "      <td>1</td>\n",
       "    </tr>\n",
       "    <tr>\n",
       "      <th>7</th>\n",
       "      <td>rajeev</td>\n",
       "      <td>45</td>\n",
       "      <td>97</td>\n",
       "      <td>3</td>\n",
       "    </tr>\n",
       "    <tr>\n",
       "      <th>8</th>\n",
       "      <td>rekha</td>\n",
       "      <td>67</td>\n",
       "      <td>2</td>\n",
       "      <td>1</td>\n",
       "    </tr>\n",
       "    <tr>\n",
       "      <th>9</th>\n",
       "      <td>pragya</td>\n",
       "      <td>89</td>\n",
       "      <td>12</td>\n",
       "      <td>1</td>\n",
       "    </tr>\n",
       "    <tr>\n",
       "      <th>10</th>\n",
       "      <td>shubham</td>\n",
       "      <td>78</td>\n",
       "      <td>29</td>\n",
       "      <td>1</td>\n",
       "    </tr>\n",
       "    <tr>\n",
       "      <th>11</th>\n",
       "      <td>payal</td>\n",
       "      <td>77</td>\n",
       "      <td>95</td>\n",
       "      <td>3</td>\n",
       "    </tr>\n",
       "    <tr>\n",
       "      <th>12</th>\n",
       "      <td>mayank</td>\n",
       "      <td>66</td>\n",
       "      <td>16</td>\n",
       "      <td>1</td>\n",
       "    </tr>\n",
       "    <tr>\n",
       "      <th>13</th>\n",
       "      <td>rishi</td>\n",
       "      <td>55</td>\n",
       "      <td>32</td>\n",
       "      <td>1</td>\n",
       "    </tr>\n",
       "    <tr>\n",
       "      <th>14</th>\n",
       "      <td>nisha</td>\n",
       "      <td>87</td>\n",
       "      <td>173</td>\n",
       "      <td>5</td>\n",
       "    </tr>\n",
       "    <tr>\n",
       "      <th>15</th>\n",
       "      <td>archana</td>\n",
       "      <td>45</td>\n",
       "      <td>2</td>\n",
       "      <td>1</td>\n",
       "    </tr>\n",
       "    <tr>\n",
       "      <th>16</th>\n",
       "      <td>mohit</td>\n",
       "      <td>81</td>\n",
       "      <td>2</td>\n",
       "      <td>1</td>\n",
       "    </tr>\n",
       "    <tr>\n",
       "      <th>17</th>\n",
       "      <td>danish</td>\n",
       "      <td>75</td>\n",
       "      <td>62</td>\n",
       "      <td>2</td>\n",
       "    </tr>\n",
       "    <tr>\n",
       "      <th>18</th>\n",
       "      <td>rajeevv</td>\n",
       "      <td>89</td>\n",
       "      <td>45</td>\n",
       "      <td>2</td>\n",
       "    </tr>\n",
       "    <tr>\n",
       "      <th>19</th>\n",
       "      <td>hitesh</td>\n",
       "      <td>78</td>\n",
       "      <td>70</td>\n",
       "      <td>2</td>\n",
       "    </tr>\n",
       "    <tr>\n",
       "      <th>20</th>\n",
       "      <td>prachi</td>\n",
       "      <td>67</td>\n",
       "      <td>107</td>\n",
       "      <td>3</td>\n",
       "    </tr>\n",
       "    <tr>\n",
       "      <th>21</th>\n",
       "      <td>pratiksha</td>\n",
       "      <td>71</td>\n",
       "      <td>32</td>\n",
       "      <td>1</td>\n",
       "    </tr>\n",
       "    <tr>\n",
       "      <th>22</th>\n",
       "      <td>ashish</td>\n",
       "      <td>78</td>\n",
       "      <td>156</td>\n",
       "      <td>4</td>\n",
       "    </tr>\n",
       "    <tr>\n",
       "      <th>23</th>\n",
       "      <td>rishabh</td>\n",
       "      <td>70</td>\n",
       "      <td>5</td>\n",
       "      <td>1</td>\n",
       "    </tr>\n",
       "    <tr>\n",
       "      <th>24</th>\n",
       "      <td>hritik</td>\n",
       "      <td>88</td>\n",
       "      <td>120</td>\n",
       "      <td>4</td>\n",
       "    </tr>\n",
       "    <tr>\n",
       "      <th>25</th>\n",
       "      <td>nitin</td>\n",
       "      <td>69</td>\n",
       "      <td>144</td>\n",
       "      <td>4</td>\n",
       "    </tr>\n",
       "    <tr>\n",
       "      <th>26</th>\n",
       "      <td>akansha</td>\n",
       "      <td>88</td>\n",
       "      <td>17</td>\n",
       "      <td>1</td>\n",
       "    </tr>\n",
       "    <tr>\n",
       "      <th>27</th>\n",
       "      <td>aryan</td>\n",
       "      <td>99</td>\n",
       "      <td>45</td>\n",
       "      <td>2</td>\n",
       "    </tr>\n",
       "    <tr>\n",
       "      <th>28</th>\n",
       "      <td>akshat</td>\n",
       "      <td>87</td>\n",
       "      <td>69</td>\n",
       "      <td>2</td>\n",
       "    </tr>\n",
       "    <tr>\n",
       "      <th>29</th>\n",
       "      <td>neetika</td>\n",
       "      <td>100</td>\n",
       "      <td>99</td>\n",
       "      <td>3</td>\n",
       "    </tr>\n",
       "    <tr>\n",
       "      <th>30</th>\n",
       "      <td>manali</td>\n",
       "      <td>66</td>\n",
       "      <td>92</td>\n",
       "      <td>3</td>\n",
       "    </tr>\n",
       "    <tr>\n",
       "      <th>31</th>\n",
       "      <td>shivam</td>\n",
       "      <td>54</td>\n",
       "      <td>83</td>\n",
       "      <td>3</td>\n",
       "    </tr>\n",
       "    <tr>\n",
       "      <th>32</th>\n",
       "      <td>sanaya</td>\n",
       "      <td>78</td>\n",
       "      <td>212</td>\n",
       "      <td>6</td>\n",
       "    </tr>\n",
       "    <tr>\n",
       "      <th>33</th>\n",
       "      <td>akshat</td>\n",
       "      <td>77</td>\n",
       "      <td>34</td>\n",
       "      <td>1</td>\n",
       "    </tr>\n",
       "    <tr>\n",
       "      <th>34</th>\n",
       "      <td>akshay</td>\n",
       "      <td>90</td>\n",
       "      <td>95</td>\n",
       "      <td>3</td>\n",
       "    </tr>\n",
       "    <tr>\n",
       "      <th>35</th>\n",
       "      <td>pulkit</td>\n",
       "      <td>69</td>\n",
       "      <td>12</td>\n",
       "      <td>1</td>\n",
       "    </tr>\n",
       "    <tr>\n",
       "      <th>36</th>\n",
       "      <td>shrikant</td>\n",
       "      <td>61</td>\n",
       "      <td>0</td>\n",
       "      <td>1</td>\n",
       "    </tr>\n",
       "    <tr>\n",
       "      <th>37</th>\n",
       "      <td>deepak</td>\n",
       "      <td>87</td>\n",
       "      <td>10</td>\n",
       "      <td>1</td>\n",
       "    </tr>\n",
       "    <tr>\n",
       "      <th>38</th>\n",
       "      <td>vani</td>\n",
       "      <td>77</td>\n",
       "      <td>4</td>\n",
       "      <td>1</td>\n",
       "    </tr>\n",
       "    <tr>\n",
       "      <th>39</th>\n",
       "      <td>ritik</td>\n",
       "      <td>71</td>\n",
       "      <td>17</td>\n",
       "      <td>1</td>\n",
       "    </tr>\n",
       "    <tr>\n",
       "      <th>40</th>\n",
       "      <td>priyanka</td>\n",
       "      <td>65</td>\n",
       "      <td>36</td>\n",
       "      <td>1</td>\n",
       "    </tr>\n",
       "    <tr>\n",
       "      <th>41</th>\n",
       "      <td>ujjwal</td>\n",
       "      <td>12</td>\n",
       "      <td>52</td>\n",
       "      <td>2</td>\n",
       "    </tr>\n",
       "  </tbody>\n",
       "</table>\n",
       "</div>"
      ],
      "text/plain": [
       "            0    1    2  3\n",
       "0       swati   18   81  3\n",
       "1       vansh   12   14  1\n",
       "2      nikhil   21    3  1\n",
       "3      nikhil   19   48  2\n",
       "4       surya   19   67  2\n",
       "5         nik   90    0  1\n",
       "6     ujjawal   50   24  1\n",
       "7      rajeev   45   97  3\n",
       "8       rekha   67    2  1\n",
       "9      pragya   89   12  1\n",
       "10    shubham   78   29  1\n",
       "11      payal   77   95  3\n",
       "12     mayank   66   16  1\n",
       "13      rishi   55   32  1\n",
       "14      nisha   87  173  5\n",
       "15    archana   45    2  1\n",
       "16      mohit   81    2  1\n",
       "17     danish   75   62  2\n",
       "18    rajeevv   89   45  2\n",
       "19     hitesh   78   70  2\n",
       "20     prachi   67  107  3\n",
       "21  pratiksha   71   32  1\n",
       "22     ashish   78  156  4\n",
       "23    rishabh   70    5  1\n",
       "24     hritik   88  120  4\n",
       "25      nitin   69  144  4\n",
       "26    akansha   88   17  1\n",
       "27      aryan   99   45  2\n",
       "28     akshat   87   69  2\n",
       "29    neetika  100   99  3\n",
       "30     manali   66   92  3\n",
       "31     shivam   54   83  3\n",
       "32     sanaya   78  212  6\n",
       "33     akshat   77   34  1\n",
       "34     akshay   90   95  3\n",
       "35     pulkit   69   12  1\n",
       "36   shrikant   61    0  1\n",
       "37     deepak   87   10  1\n",
       "38       vani   77    4  1\n",
       "39      ritik   71   17  1\n",
       "40   priyanka   65   36  1\n",
       "41     ujjwal   12   52  2"
      ]
     },
     "execution_count": 3,
     "metadata": {},
     "output_type": "execute_result"
    }
   ],
   "source": [
    "df = pd.read_csv(\"Data.csv\",header=None)\n",
    "df"
   ]
  },
  {
   "cell_type": "code",
   "execution_count": 4,
   "metadata": {},
   "outputs": [
    {
     "data": {
      "text/plain": [
       "(42, 4)"
      ]
     },
     "execution_count": 4,
     "metadata": {},
     "output_type": "execute_result"
    }
   ],
   "source": [
    "df.shape"
   ]
  },
  {
   "cell_type": "code",
   "execution_count": 5,
   "metadata": {},
   "outputs": [],
   "source": [
    "narr = np.array(df)"
   ]
  },
  {
   "cell_type": "code",
   "execution_count": 6,
   "metadata": {
    "collapsed": true
   },
   "outputs": [
    {
     "data": {
      "text/plain": [
       "array([['swati', 18, 81, 3],\n",
       "       ['vansh', 12, 14, 1],\n",
       "       ['nikhil', 21, 3, 1],\n",
       "       ['nikhil', 19, 48, 2],\n",
       "       ['surya', 19, 67, 2],\n",
       "       ['nik', 90, 0, 1],\n",
       "       ['ujjawal', 50, 24, 1],\n",
       "       ['rajeev', 45, 97, 3],\n",
       "       ['rekha', 67, 2, 1],\n",
       "       ['pragya', 89, 12, 1],\n",
       "       ['shubham', 78, 29, 1],\n",
       "       ['payal', 77, 95, 3],\n",
       "       ['mayank', 66, 16, 1],\n",
       "       ['rishi', 55, 32, 1],\n",
       "       ['nisha', 87, 173, 5],\n",
       "       ['archana', 45, 2, 1],\n",
       "       ['mohit', 81, 2, 1],\n",
       "       ['danish', 75, 62, 2],\n",
       "       ['rajeevv', 89, 45, 2],\n",
       "       ['hitesh', 78, 70, 2],\n",
       "       ['prachi', 67, 107, 3],\n",
       "       ['pratiksha', 71, 32, 1],\n",
       "       ['ashish', 78, 156, 4],\n",
       "       ['rishabh', 70, 5, 1],\n",
       "       ['hritik', 88, 120, 4],\n",
       "       ['nitin', 69, 144, 4],\n",
       "       ['akansha', 88, 17, 1],\n",
       "       ['aryan', 99, 45, 2],\n",
       "       ['akshat', 87, 69, 2],\n",
       "       ['neetika', 100, 99, 3],\n",
       "       ['manali', 66, 92, 3],\n",
       "       ['shivam', 54, 83, 3],\n",
       "       ['sanaya', 78, 212, 6],\n",
       "       ['akshat', 77, 34, 1],\n",
       "       ['akshay', 90, 95, 3],\n",
       "       ['pulkit', 69, 12, 1],\n",
       "       ['shrikant', 61, 0, 1],\n",
       "       ['deepak', 87, 10, 1],\n",
       "       ['vani', 77, 4, 1],\n",
       "       ['ritik', 71, 17, 1],\n",
       "       ['priyanka', 65, 36, 1],\n",
       "       ['ujjwal', 12, 52, 2]], dtype=object)"
      ]
     },
     "execution_count": 6,
     "metadata": {},
     "output_type": "execute_result"
    }
   ],
   "source": [
    "narr"
   ]
  },
  {
   "cell_type": "code",
   "execution_count": 46,
   "metadata": {},
   "outputs": [
    {
     "data": {
      "text/plain": [
       "Text(0.5, 1.0, 'Threshold Determination')"
      ]
     },
     "execution_count": 46,
     "metadata": {},
     "output_type": "execute_result"
    },
    {
     "data": {
      "image/png": "[encoded data removed]",
      "text/plain": [
       "<Figure size 576x396 with 1 Axes>"
      ]
     },
     "metadata": {},
     "output_type": "display_data"
    }
   ],
   "source": [
    "y=narr[ : ,1]\n",
    "x=narr[ : ,3]\n",
    "plt.style.use('seaborn')\n",
    "plt.xlabel(\"Age\")   #x and y axis labelling\n",
    "plt.ylabel(\"Attempts\")\n",
    "plt.scatter(x,y)\n",
    "plt.title(\"Threshold Determination\")"
   ]
  },
  {
   "cell_type": "code",
   "execution_count": 45,
   "metadata": {},
   "outputs": [
    {
     "data": {
      "text/plain": [
       "Text(0.5, 1.0, 'Threshold Determination')"
      ]
     },
     "execution_count": 45,
     "metadata": {},
     "output_type": "execute_result"
    },
    {
     "data": {
      "image/png": "[encoded data removed]",
      "text/plain": [
       "<Figure size 576x396 with 1 Axes>"
      ]
     },
     "metadata": {},
     "output_type": "display_data"
    }
   ],
   "source": [
    "y=narr[ : ,2]\n",
    "x=narr[ : ,1]\n",
    "plt.style.use('seaborn')\n",
    "plt.xlabel(\"Age\")   #x and y axis labelling\n",
    "plt.ylabel(\"Score\")\n",
    "plt.scatter(x,y)\n",
    "plt.title(\"Threshold Determination\")"
   ]
  },
  {
   "cell_type": "code",
   "execution_count": 8,
   "metadata": {
    "collapsed": true
   },
   "outputs": [
    {
     "data": {
      "text/plain": [
       "array([['swati', 18, 81, 3],\n",
       "       ['vansh', 12, 14, 1],\n",
       "       ['nikhil', 21, 3, 1],\n",
       "       ['nikhil', 19, 48, 2],\n",
       "       ['surya', 19, 67, 2],\n",
       "       ['nik', 90, 0, 1],\n",
       "       ['ujjawal', 50, 24, 1],\n",
       "       ['rajeev', 45, 97, 3],\n",
       "       ['rekha', 67, 2, 1],\n",
       "       ['pragya', 89, 12, 1],\n",
       "       ['shubham', 78, 29, 1],\n",
       "       ['payal', 77, 95, 3],\n",
       "       ['mayank', 66, 16, 1],\n",
       "       ['rishi', 55, 32, 1],\n",
       "       ['nisha', 87, 173, 5],\n",
       "       ['archana', 45, 2, 1],\n",
       "       ['mohit', 81, 2, 1],\n",
       "       ['danish', 75, 62, 2],\n",
       "       ['rajeevv', 89, 45, 2],\n",
       "       ['hitesh', 78, 70, 2],\n",
       "       ['prachi', 67, 107, 3],\n",
       "       ['pratiksha', 71, 32, 1],\n",
       "       ['ashish', 78, 156, 4],\n",
       "       ['rishabh', 70, 5, 1],\n",
       "       ['hritik', 88, 120, 4],\n",
       "       ['nitin', 69, 144, 4],\n",
       "       ['akansha', 88, 17, 1],\n",
       "       ['aryan', 99, 45, 2],\n",
       "       ['akshat', 87, 69, 2],\n",
       "       ['neetika', 100, 99, 3],\n",
       "       ['manali', 66, 92, 3],\n",
       "       ['shivam', 54, 83, 3],\n",
       "       ['sanaya', 78, 212, 6],\n",
       "       ['akshat', 77, 34, 1],\n",
       "       ['akshay', 90, 95, 3],\n",
       "       ['pulkit', 69, 12, 1],\n",
       "       ['shrikant', 61, 0, 1],\n",
       "       ['deepak', 87, 10, 1],\n",
       "       ['vani', 77, 4, 1],\n",
       "       ['ritik', 71, 17, 1],\n",
       "       ['priyanka', 65, 36, 1],\n",
       "       ['ujjwal', 12, 52, 2]], dtype=object)"
      ]
     },
     "execution_count": 8,
     "metadata": {},
     "output_type": "execute_result"
    }
   ],
   "source": [
    "narr"
   ]
  },
  {
   "cell_type": "code",
   "execution_count": 9,
   "metadata": {},
   "outputs": [],
   "source": [
    "narr[:,1] = narr[:,1]-35"
   ]
  },
  {
   "cell_type": "code",
   "execution_count": 10,
   "metadata": {
    "collapsed": true
   },
   "outputs": [
    {
     "data": {
      "text/plain": [
       "array([['swati', -17, 81, 3],\n",
       "       ['vansh', -23, 14, 1],\n",
       "       ['nikhil', -14, 3, 1],\n",
       "       ['nikhil', -16, 48, 2],\n",
       "       ['surya', -16, 67, 2],\n",
       "       ['nik', 55, 0, 1],\n",
       "       ['ujjawal', 15, 24, 1],\n",
       "       ['rajeev', 10, 97, 3],\n",
       "       ['rekha', 32, 2, 1],\n",
       "       ['pragya', 54, 12, 1],\n",
       "       ['shubham', 43, 29, 1],\n",
       "       ['payal', 42, 95, 3],\n",
       "       ['mayank', 31, 16, 1],\n",
       "       ['rishi', 20, 32, 1],\n",
       "       ['nisha', 52, 173, 5],\n",
       "       ['archana', 10, 2, 1],\n",
       "       ['mohit', 46, 2, 1],\n",
       "       ['danish', 40, 62, 2],\n",
       "       ['rajeevv', 54, 45, 2],\n",
       "       ['hitesh', 43, 70, 2],\n",
       "       ['prachi', 32, 107, 3],\n",
       "       ['pratiksha', 36, 32, 1],\n",
       "       ['ashish', 43, 156, 4],\n",
       "       ['rishabh', 35, 5, 1],\n",
       "       ['hritik', 53, 120, 4],\n",
       "       ['nitin', 34, 144, 4],\n",
       "       ['akansha', 53, 17, 1],\n",
       "       ['aryan', 64, 45, 2],\n",
       "       ['akshat', 52, 69, 2],\n",
       "       ['neetika', 65, 99, 3],\n",
       "       ['manali', 31, 92, 3],\n",
       "       ['shivam', 19, 83, 3],\n",
       "       ['sanaya', 43, 212, 6],\n",
       "       ['akshat', 42, 34, 1],\n",
       "       ['akshay', 55, 95, 3],\n",
       "       ['pulkit', 34, 12, 1],\n",
       "       ['shrikant', 26, 0, 1],\n",
       "       ['deepak', 52, 10, 1],\n",
       "       ['vani', 42, 4, 1],\n",
       "       ['ritik', 36, 17, 1],\n",
       "       ['priyanka', 30, 36, 1],\n",
       "       ['ujjwal', -23, 52, 2]], dtype=object)"
      ]
     },
     "execution_count": 10,
     "metadata": {},
     "output_type": "execute_result"
    }
   ],
   "source": [
    "narr"
   ]
  },
  {
   "cell_type": "code",
   "execution_count": 11,
   "metadata": {},
   "outputs": [],
   "source": [
    "narr[:5,1]=narr[:5,1]+35"
   ]
  },
  {
   "cell_type": "code",
   "execution_count": 12,
   "metadata": {
    "collapsed": true
   },
   "outputs": [
    {
     "data": {
      "text/plain": [
       "array([['swati', 18, 81, 3],\n",
       "       ['vansh', 12, 14, 1],\n",
       "       ['nikhil', 21, 3, 1],\n",
       "       ['nikhil', 19, 48, 2],\n",
       "       ['surya', 19, 67, 2],\n",
       "       ['nik', 55, 0, 1],\n",
       "       ['ujjawal', 15, 24, 1],\n",
       "       ['rajeev', 10, 97, 3],\n",
       "       ['rekha', 32, 2, 1],\n",
       "       ['pragya', 54, 12, 1],\n",
       "       ['shubham', 43, 29, 1],\n",
       "       ['payal', 42, 95, 3],\n",
       "       ['mayank', 31, 16, 1],\n",
       "       ['rishi', 20, 32, 1],\n",
       "       ['nisha', 52, 173, 5],\n",
       "       ['archana', 10, 2, 1],\n",
       "       ['mohit', 46, 2, 1],\n",
       "       ['danish', 40, 62, 2],\n",
       "       ['rajeevv', 54, 45, 2],\n",
       "       ['hitesh', 43, 70, 2],\n",
       "       ['prachi', 32, 107, 3],\n",
       "       ['pratiksha', 36, 32, 1],\n",
       "       ['ashish', 43, 156, 4],\n",
       "       ['rishabh', 35, 5, 1],\n",
       "       ['hritik', 53, 120, 4],\n",
       "       ['nitin', 34, 144, 4],\n",
       "       ['akansha', 53, 17, 1],\n",
       "       ['aryan', 64, 45, 2],\n",
       "       ['akshat', 52, 69, 2],\n",
       "       ['neetika', 65, 99, 3],\n",
       "       ['manali', 31, 92, 3],\n",
       "       ['shivam', 19, 83, 3],\n",
       "       ['sanaya', 43, 212, 6],\n",
       "       ['akshat', 42, 34, 1],\n",
       "       ['akshay', 55, 95, 3],\n",
       "       ['pulkit', 34, 12, 1],\n",
       "       ['shrikant', 26, 0, 1],\n",
       "       ['deepak', 52, 10, 1],\n",
       "       ['vani', 42, 4, 1],\n",
       "       ['ritik', 36, 17, 1],\n",
       "       ['priyanka', 30, 36, 1],\n",
       "       ['ujjwal', -23, 52, 2]], dtype=object)"
      ]
     },
     "execution_count": 12,
     "metadata": {},
     "output_type": "execute_result"
    }
   ],
   "source": [
    "narr"
   ]
  },
  {
   "cell_type": "code",
   "execution_count": 42,
   "metadata": {},
   "outputs": [
    {
     "data": {
      "text/plain": [
       "Text(0.5, 1.0, 'Threshold Determination')"
      ]
     },
     "execution_count": 42,
     "metadata": {},
     "output_type": "execute_result"
    },
    {
     "data": {
      "image/png": "[encoded data removed]",
      "text/plain": [
       "<Figure size 576x396 with 1 Axes>"
      ]
     },
     "metadata": {},
     "output_type": "display_data"
    }
   ],
   "source": [
    "y=narr[ : ,2]\n",
    "x=narr[ : ,3]\n",
    "plt.style.use('seaborn')\n",
    "plt.xlabel(\"Attempts\")   #x and y axis labelling\n",
    "plt.ylabel(\"Score\")\n",
    "plt.scatter(x,y)\n",
    "plt.title(\"Threshold Determination\")"
   ]
  },
  {
   "cell_type": "code",
   "execution_count": 30,
   "metadata": {},
   "outputs": [],
   "source": [
    "threshold = np.mean(narr[:,2])"
   ]
  },
  {
   "cell_type": "code",
   "execution_count": 15,
   "metadata": {},
   "outputs": [
    {
     "data": {
      "text/plain": [
       "55.11904761904762"
      ]
     },
     "execution_count": 15,
     "metadata": {},
     "output_type": "execute_result"
    }
   ],
   "source": [
    "threshold"
   ]
  },
  {
   "cell_type": "code",
   "execution_count": 16,
   "metadata": {},
   "outputs": [
    {
     "data": {
      "text/plain": [
       "51.597435512570996"
      ]
     },
     "execution_count": 16,
     "metadata": {},
     "output_type": "execute_result"
    }
   ],
   "source": [
    "np.std(narr[:,2])"
   ]
  },
  {
   "cell_type": "code",
   "execution_count": 17,
   "metadata": {},
   "outputs": [],
   "source": [
    "import math"
   ]
  },
  {
   "cell_type": "code",
   "execution_count": 33,
   "metadata": {},
   "outputs": [
    {
     "data": {
      "text/plain": [
       "[<matplotlib.lines.Line2D at 0x26d1b07bb00>]"
      ]
     },
     "execution_count": 33,
     "metadata": {},
     "output_type": "execute_result"
    },
    {
     "data": {
      "image/png": "[encoded data removed]",
      "text/plain": [
       "<Figure size 576x396 with 1 Axes>"
      ]
     },
     "metadata": {},
     "output_type": "display_data"
    }
   ],
   "source": [
    "plt.style.use('dark_background')\n",
    "plt.plot(x,y)"
   ]
  },
  {
   "cell_type": "code",
   "execution_count": null,
   "metadata": {},
   "outputs": [],
   "source": [
    "math.sqrt((1/(narr.shape[0]))*(narr[:,2]-threshold)**2)"
   ]
  },
  {
   "cell_type": "code",
   "execution_count": null,
   "metadata": {},
   "outputs": [],
   "source": []
  },
  {
   "cell_type": "code",
   "execution_count": null,
   "metadata": {},
   "outputs": [],
   "source": []
  }
 ],
 "metadata": {
  "kernelspec": {
   "display_name": "Python 3",
   "language": "python",
   "name": "python3"
  },
  "language_info": {
   "codemirror_mode": {
    "name": "ipython",
    "version": 3
   },
   "file_extension": ".py",
   "mimetype": "text/x-python",
   "name": "python",
   "nbconvert_exporter": "python",
   "pygments_lexer": "ipython3",
   "version": "3.7.3"
  }
 },
 "nbformat": 4,
 "nbformat_minor": 2
}
